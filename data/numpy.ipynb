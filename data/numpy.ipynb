{
 "cells": [
  {
   "cell_type": "code",
   "execution_count": 1,
   "id": "c66bc9fe-80cc-4dae-95f7-0889ffbecad5",
   "metadata": {},
   "outputs": [],
   "source": [
    "import numpy as np"
   ]
  },
  {
   "cell_type": "markdown",
   "id": "c4896200-00ef-491a-859a-483f9cac142e",
   "metadata": {},
   "source": [
    "#list"
   ]
  },
  {
   "cell_type": "code",
   "execution_count": 6,
   "id": "ec114229-5828-4a22-8cfc-3e10a618315d",
   "metadata": {},
   "outputs": [
    {
     "data": {
      "text/plain": [
       "[10, 20, 30, 40]"
      ]
     },
     "execution_count": 6,
     "metadata": {},
     "output_type": "execute_result"
    }
   ],
   "source": [
    "a_py = [10,20,30,40]\n",
    "a_py"
   ]
  },
  {
   "cell_type": "code",
   "execution_count": 7,
   "id": "b1b15c6d-795c-43c7-b3ea-7084367a6ddd",
   "metadata": {},
   "outputs": [
    {
     "data": {
      "text/plain": [
       "list"
      ]
     },
     "execution_count": 7,
     "metadata": {},
     "output_type": "execute_result"
    }
   ],
   "source": [
    "type(a_py)"
   ]
  },
  {
   "cell_type": "markdown",
   "id": "2468ba44-3884-4aeb-b847-b17fec872656",
   "metadata": {},
   "source": [
    "#NUMPY"
   ]
  },
  {
   "cell_type": "code",
   "execution_count": 8,
   "id": "937b1490-0e61-466f-aeb5-f2282621cfef",
   "metadata": {},
   "outputs": [
    {
     "data": {
      "text/plain": [
       "array([10, 20, 30])"
      ]
     },
     "execution_count": 8,
     "metadata": {},
     "output_type": "execute_result"
    }
   ],
   "source": [
    "b_np = np.array([10,20,30])\n",
    "b_np"
   ]
  },
  {
   "cell_type": "code",
   "execution_count": 9,
   "id": "9e34f123-de5b-4918-ab23-5d2efe1b03e3",
   "metadata": {},
   "outputs": [
    {
     "data": {
      "text/plain": [
       "numpy.ndarray"
      ]
     },
     "execution_count": 9,
     "metadata": {},
     "output_type": "execute_result"
    }
   ],
   "source": [
    "type(b_np)"
   ]
  },
  {
   "cell_type": "markdown",
   "id": "34f2f226-b92f-4789-a195-ad04e5c1eca4",
   "metadata": {},
   "source": [
    "#MULTIPLY 10 TO ALL ARRAY LIST\n"
   ]
  },
  {
   "cell_type": "code",
   "execution_count": 10,
   "id": "060ff767-0b89-4992-a85c-0a80f27738ed",
   "metadata": {},
   "outputs": [
    {
     "data": {
      "text/plain": [
       "[100, 200, 300, 400]"
      ]
     },
     "execution_count": 10,
     "metadata": {},
     "output_type": "execute_result"
    }
   ],
   "source": [
    "arr =  []\n",
    "for i in a_py:\n",
    "    arr.append(i * 10)\n",
    "\n",
    "arr"
   ]
  },
  {
   "cell_type": "markdown",
   "id": "4bd5f670-0858-4ece-a89c-5721ac253615",
   "metadata": {},
   "source": [
    "#lambda, map"
   ]
  },
  {
   "cell_type": "code",
   "execution_count": 12,
   "id": "82d9a318-8fd3-46cb-9d06-d86b94370473",
   "metadata": {},
   "outputs": [],
   "source": [
    "del list"
   ]
  },
  {
   "cell_type": "code",
   "execution_count": 13,
   "id": "19523806-8c2a-43b7-a969-34f0a473a434",
   "metadata": {},
   "outputs": [
    {
     "data": {
      "text/plain": [
       "[100, 200, 300, 400]"
      ]
     },
     "execution_count": 13,
     "metadata": {},
     "output_type": "execute_result"
    }
   ],
   "source": [
    "list(map(lambda x: x*10, a_py))"
   ]
  },
  {
   "cell_type": "code",
   "execution_count": 14,
   "id": "75e39c1a-e9e7-4e13-b2d8-a19e1ea284d7",
   "metadata": {},
   "outputs": [
    {
     "data": {
      "text/plain": [
       "[100, 200, 300, 400]"
      ]
     },
     "execution_count": 14,
     "metadata": {},
     "output_type": "execute_result"
    }
   ],
   "source": [
    "[ i*10 for i in a_py]"
   ]
  },
  {
   "cell_type": "code",
   "execution_count": 16,
   "id": "17d0e4a8-6f90-456b-b3ce-be3e17b60f7c",
   "metadata": {},
   "outputs": [
    {
     "data": {
      "text/plain": [
       "array([100, 200, 300])"
      ]
     },
     "execution_count": 16,
     "metadata": {},
     "output_type": "execute_result"
    }
   ],
   "source": [
    "#how to resolve in np\n",
    "b_np * 10"
   ]
  },
  {
   "cell_type": "markdown",
   "id": "25e79a80-94c8-4d86-bf5a-1f73ff0a7a0b",
   "metadata": {},
   "source": [
    "#numpy less memory footprint & high performance\n"
   ]
  },
  {
   "cell_type": "markdown",
   "id": "638c22c3-c19b-48c2-8916-b19ef009aad2",
   "metadata": {},
   "source": [
    "#numpy array contain only one datatype"
   ]
  },
  {
   "cell_type": "code",
   "execution_count": 23,
   "id": "789c6d1e-3f9c-4b76-b496-798f63baef8c",
   "metadata": {},
   "outputs": [
    {
     "data": {
      "text/plain": [
       "array([1, 2, 3])"
      ]
     },
     "execution_count": 23,
     "metadata": {},
     "output_type": "execute_result"
    }
   ],
   "source": [
    "c_np = np.array([1,2,3])  # whole np array is int64\n",
    "c_np"
   ]
  },
  {
   "cell_type": "code",
   "execution_count": 18,
   "id": "22f5d639-f566-4189-a266-08d5afa45b2e",
   "metadata": {},
   "outputs": [
    {
     "data": {
      "text/plain": [
       "numpy.ndarray"
      ]
     },
     "execution_count": 18,
     "metadata": {},
     "output_type": "execute_result"
    }
   ],
   "source": [
    "type(c_np)"
   ]
  },
  {
   "cell_type": "code",
   "execution_count": 19,
   "id": "1013a9ce-ed25-4c7a-9f68-71e908171167",
   "metadata": {},
   "outputs": [
    {
     "data": {
      "text/plain": [
       "dtype('int64')"
      ]
     },
     "execution_count": 19,
     "metadata": {},
     "output_type": "execute_result"
    }
   ],
   "source": [
    "c_np.dtype"
   ]
  },
  {
   "cell_type": "code",
   "execution_count": 24,
   "id": "d33a39ef-b459-4f92-bda2-2c97d10e8403",
   "metadata": {},
   "outputs": [
    {
     "data": {
      "text/plain": [
       "array([1. , 5.2, 3. ])"
      ]
     },
     "execution_count": 24,
     "metadata": {},
     "output_type": "execute_result"
    }
   ],
   "source": [
    "c_np = np.array([1,5.2,3])  # see one is float, so whole np array is float\n",
    "c_np"
   ]
  },
  {
   "cell_type": "code",
   "execution_count": 21,
   "id": "32ccff81-0b93-4f44-a4e6-42caa53edb5a",
   "metadata": {},
   "outputs": [
    {
     "data": {
      "text/plain": [
       "numpy.ndarray"
      ]
     },
     "execution_count": 21,
     "metadata": {},
     "output_type": "execute_result"
    }
   ],
   "source": [
    "type(c_np)"
   ]
  },
  {
   "cell_type": "code",
   "execution_count": 22,
   "id": "209b385e-38f3-4603-9bc4-5eed984a9d1e",
   "metadata": {},
   "outputs": [
    {
     "data": {
      "text/plain": [
       "dtype('float64')"
      ]
     },
     "execution_count": 22,
     "metadata": {},
     "output_type": "execute_result"
    }
   ],
   "source": [
    "c_np.dtype"
   ]
  },
  {
   "cell_type": "code",
   "execution_count": null,
   "id": "fe8faaa6-af53-4bdc-8627-a46b3ac41ede",
   "metadata": {},
   "outputs": [],
   "source": []
  }
 ],
 "metadata": {
  "kernelspec": {
   "display_name": "Python 3 (ipykernel)",
   "language": "python",
   "name": "python3"
  },
  "language_info": {
   "codemirror_mode": {
    "name": "ipython",
    "version": 3
   },
   "file_extension": ".py",
   "mimetype": "text/x-python",
   "name": "python",
   "nbconvert_exporter": "python",
   "pygments_lexer": "ipython3",
   "version": "3.10.12"
  }
 },
 "nbformat": 4,
 "nbformat_minor": 5
}
