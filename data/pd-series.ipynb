{
 "cells": [
  {
   "cell_type": "markdown",
   "id": "af6bc585-8e44-43b6-b950-a94d27a9cf4f",
   "metadata": {},
   "source": [
    "#panda series\n",
    "#one dimensional\n",
    "#labelled arrays of any data type\n",
    "#sequence of values with associated labels"
   ]
  },
  {
   "cell_type": "code",
   "execution_count": 1,
   "id": "58da1f8e-6ad4-4538-85dc-0f83455760b4",
   "metadata": {},
   "outputs": [
    {
     "data": {
      "text/plain": [
       "['samim', 'lisa', 'somesh']"
      ]
     },
     "execution_count": 1,
     "metadata": {},
     "output_type": "execute_result"
    }
   ],
   "source": [
    "students = ['samim', 'lisa', 'somesh']\n",
    "students"
   ]
  },
  {
   "cell_type": "code",
   "execution_count": 2,
   "id": "72a76a43-3582-48ba-97ae-b09a66cd31d2",
   "metadata": {},
   "outputs": [
    {
     "data": {
      "text/plain": [
       "list"
      ]
     },
     "execution_count": 2,
     "metadata": {},
     "output_type": "execute_result"
    }
   ],
   "source": [
    "type(students)"
   ]
  },
  {
   "cell_type": "code",
   "execution_count": 6,
   "id": "1eadbfaf-ecdf-4b18-854c-40df82a7e648",
   "metadata": {},
   "outputs": [
    {
     "data": {
      "text/plain": [
       "0     samim\n",
       "1      lisa\n",
       "2    somesh\n",
       "dtype: object"
      ]
     },
     "execution_count": 6,
     "metadata": {},
     "output_type": "execute_result"
    }
   ],
   "source": [
    "import pandas as pd\n",
    "pd.Series(students)  #its object"
   ]
  },
  {
   "cell_type": "code",
   "execution_count": 7,
   "id": "7df99dee-fbf0-4dc2-874b-4a9fac8102ce",
   "metadata": {},
   "outputs": [
    {
     "data": {
      "text/plain": [
       "0    25\n",
       "1    32\n",
       "2    43\n",
       "dtype: int64"
      ]
     },
     "execution_count": 7,
     "metadata": {},
     "output_type": "execute_result"
    }
   ],
   "source": [
    "ages = [25,32,43]\n",
    "pd.Series(ages)  # its int64"
   ]
  },
  {
   "cell_type": "code",
   "execution_count": 8,
   "id": "b468663d-12a3-4c76-9c29-228286071913",
   "metadata": {},
   "outputs": [
    {
     "data": {
      "text/plain": [
       "0    1.2\n",
       "1    3.5\n",
       "2    6.8\n",
       "dtype: float64"
      ]
     },
     "execution_count": 8,
     "metadata": {},
     "output_type": "execute_result"
    }
   ],
   "source": [
    "heights = [1.2,3.5,6.8]\n",
    "pd.Series(heights) # its float"
   ]
  },
  {
   "cell_type": "code",
   "execution_count": 12,
   "id": "6a6bef8d-4fe5-4e70-9fe1-4d5bf73067ed",
   "metadata": {},
   "outputs": [
    {
     "data": {
      "text/plain": [
       "0            True\n",
       "1             3.5\n",
       "2               5\n",
       "3    {'age': 400}\n",
       "4           samim\n",
       "dtype: object"
      ]
     },
     "execution_count": 12,
     "metadata": {},
     "output_type": "execute_result"
    }
   ],
   "source": [
    "mixed = [ True, 3.5, 5, {'age': 400}, 'samim']\n",
    "pd.Series(mixed)  # any data type"
   ]
  },
  {
   "cell_type": "markdown",
   "id": "4e32f513-8af7-4eaf-afd9-7d976f4ff02e",
   "metadata": {},
   "source": [
    "#parameter vs arguments"
   ]
  },
  {
   "cell_type": "code",
   "execution_count": 13,
   "id": "cd056533-6339-46f8-be3c-51d607b57fd1",
   "metadata": {},
   "outputs": [
    {
     "data": {
      "text/plain": [
       "0     samim\n",
       "1      lisa\n",
       "2    somesh\n",
       "dtype: object"
      ]
     },
     "execution_count": 13,
     "metadata": {},
     "output_type": "execute_result"
    }
   ],
   "source": [
    "pd.Series(students)    #students is argument"
   ]
  },
  {
   "cell_type": "code",
   "execution_count": 17,
   "id": "0a89cfaa-b942-4a47-9d1b-336776245cb1",
   "metadata": {},
   "outputs": [
    {
     "data": {
      "text/plain": [
       "0     samim\n",
       "1      lisa\n",
       "2    somesh\n",
       "dtype: object"
      ]
     },
     "execution_count": 17,
     "metadata": {},
     "output_type": "execute_result"
    }
   ],
   "source": [
    "pd.Series(data=students)     # data is the parameter  # students is arguments"
   ]
  },
  {
   "cell_type": "code",
   "execution_count": 18,
   "id": "d6bf05d1-e8d2-483d-9257-e693bbed03aa",
   "metadata": {},
   "outputs": [
    {
     "data": {
      "text/plain": [
       "'hi samim'"
      ]
     },
     "execution_count": 18,
     "metadata": {},
     "output_type": "execute_result"
    }
   ],
   "source": [
    "def greeting(something):      # something is parameter\n",
    "    return something\n",
    "\n",
    "greeting('hi samim')        # hi samim is arguments"
   ]
  },
  {
   "cell_type": "code",
   "execution_count": 24,
   "id": "5b3d444a-aa90-457f-a9be-cae74fc92bcd",
   "metadata": {},
   "outputs": [
    {
     "data": {
      "text/plain": [
       "0    raja ki barat\n",
       "1    asman ki jadu\n",
       "2          ramayan\n",
       "dtype: object"
      ]
     },
     "execution_count": 24,
     "metadata": {},
     "output_type": "execute_result"
    }
   ],
   "source": [
    "books_list = ['raja ki barat', 'asman ki jadu','ramayan']\n",
    "list1_s = pd.Series(books_list)   # see 0,1 , 2 are the labels\n",
    "list1_s"
   ]
  },
  {
   "cell_type": "code",
   "execution_count": 23,
   "id": "c332c042-5548-4dbf-ab13-a2a797797831",
   "metadata": {},
   "outputs": [
    {
     "data": {
      "text/plain": [
       "0    raja ki barat\n",
       "1    asman ki jadu\n",
       "2          ramayan\n",
       "dtype: object"
      ]
     },
     "execution_count": 23,
     "metadata": {},
     "output_type": "execute_result"
    }
   ],
   "source": [
    "dict1 = { 0: 'raja ki barat', 1: 'asman ki jadu', 2:'ramayan'}\n",
    "dict1_s = pd.Series(dict1)\n",
    "dict1_s"
   ]
  },
  {
   "cell_type": "code",
   "execution_count": 21,
   "id": "5621fc31-d312-498d-abe2-29455bd14d64",
   "metadata": {},
   "outputs": [
    {
     "ename": "SyntaxError",
     "evalue": "invalid syntax (3249022575.py, line 1)",
     "output_type": "error",
     "traceback": [
      "\u001b[0;36m  Cell \u001b[0;32mIn[21], line 1\u001b[0;36m\u001b[0m\n\u001b[0;31m    list11 =[0: 'raja ki barat', 1: 'asman ki jadu', 2:'ramayan']\u001b[0m\n\u001b[0m              ^\u001b[0m\n\u001b[0;31mSyntaxError\u001b[0m\u001b[0;31m:\u001b[0m invalid syntax\n"
     ]
    }
   ],
   "source": [
    "list11 =[0: 'raja ki barat', 1: 'asman ki jadu', 2:'ramayan']\n",
    "pd.Series(list1)    # you can not"
   ]
  },
  {
   "cell_type": "code",
   "execution_count": 25,
   "id": "adc14e93-d11d-4c19-9adf-07b2e075f6c2",
   "metadata": {},
   "outputs": [
    {
     "data": {
      "text/plain": [
       "True"
      ]
     },
     "execution_count": 25,
     "metadata": {},
     "output_type": "execute_result"
    }
   ],
   "source": [
    "list1_s.equals(dict1_s)"
   ]
  },
  {
   "cell_type": "code",
   "execution_count": 26,
   "id": "d00828b7-2c4a-4b20-bec0-a1467c5e0e4b",
   "metadata": {},
   "outputs": [
    {
     "data": {
      "text/plain": [
       "0    this\n",
       "1      is\n",
       "2     fun\n",
       "dtype: object"
      ]
     },
     "execution_count": 26,
     "metadata": {},
     "output_type": "execute_result"
    }
   ],
   "source": [
    "list1_s = pd.Series(data=['this','is','fun'])\n",
    "list1_s\n",
    "                    "
   ]
  },
  {
   "cell_type": "code",
   "execution_count": 27,
   "id": "4b2e7846-30f8-4d1d-983b-0a601fea1add",
   "metadata": {},
   "outputs": [
    {
     "data": {
      "text/plain": [
       "0    this\n",
       "1      is\n",
       "2     fun\n",
       "dtype: object"
      ]
     },
     "execution_count": 27,
     "metadata": {},
     "output_type": "execute_result"
    }
   ],
   "source": [
    "dict1_s = pd.Series(data = {0:'this', 1:'is', 2:'fun'})\n",
    "dict1_s"
   ]
  },
  {
   "cell_type": "code",
   "execution_count": 28,
   "id": "6fc808e0-8cae-49c6-a934-edfa971e5ce3",
   "metadata": {},
   "outputs": [
    {
     "data": {
      "text/plain": [
       "True"
      ]
     },
     "execution_count": 28,
     "metadata": {},
     "output_type": "execute_result"
    }
   ],
   "source": [
    "list1_s.equals(dict1_s)"
   ]
  },
  {
   "cell_type": "code",
   "execution_count": 29,
   "id": "50a23c52-3203-4949-9004-8584366c5b7a",
   "metadata": {},
   "outputs": [
    {
     "data": {
      "text/plain": [
       "0    0\n",
       "dtype: int64"
      ]
     },
     "execution_count": 29,
     "metadata": {},
     "output_type": "execute_result"
    }
   ],
   "source": [
    "pd.Series(data=0)   #valid"
   ]
  },
  {
   "cell_type": "code",
   "execution_count": 30,
   "id": "02b528eb-f6f9-4811-ae3a-ffc46650ae94",
   "metadata": {},
   "outputs": [
    {
     "data": {
      "text/plain": [
       "0    weather\n",
       "dtype: object"
      ]
     },
     "execution_count": 30,
     "metadata": {},
     "output_type": "execute_result"
    }
   ],
   "source": [
    "pd.Series(data='weather')  #valid"
   ]
  },
  {
   "cell_type": "markdown",
   "id": "39438b9d-747a-460a-858f-b2301a842102",
   "metadata": {},
   "source": [
    "#dtype attribute"
   ]
  },
  {
   "cell_type": "code",
   "execution_count": 31,
   "id": "e5d277a4-5717-49fc-bdc7-7137c98a6603",
   "metadata": {},
   "outputs": [
    {
     "data": {
      "text/plain": [
       "[12, 32, 45]"
      ]
     },
     "execution_count": 31,
     "metadata": {},
     "output_type": "execute_result"
    }
   ],
   "source": [
    "age = [12,32,45]\n",
    "age"
   ]
  },
  {
   "cell_type": "code",
   "execution_count": 34,
   "id": "236415f9-5a06-42b6-af7d-0a579d956675",
   "metadata": {},
   "outputs": [
    {
     "data": {
      "text/plain": [
       "0    12\n",
       "1    32\n",
       "2    45\n",
       "dtype: int64"
      ]
     },
     "execution_count": 34,
     "metadata": {},
     "output_type": "execute_result"
    }
   ],
   "source": [
    "pd.Series(age) #dtype is int"
   ]
  },
  {
   "cell_type": "code",
   "execution_count": 33,
   "id": "87c53273-6905-48f2-a328-5346490ee926",
   "metadata": {},
   "outputs": [
    {
     "data": {
      "text/plain": [
       "0    12.0\n",
       "1    32.0\n",
       "2    45.0\n",
       "dtype: float64"
      ]
     },
     "execution_count": 33,
     "metadata": {},
     "output_type": "execute_result"
    }
   ],
   "source": [
    "pd.Series(age,dtype=float)  # force datatype to float"
   ]
  },
  {
   "cell_type": "code",
   "execution_count": 35,
   "id": "c782725a-a3df-4b2f-b3f2-7ac16f399e91",
   "metadata": {},
   "outputs": [
    {
     "data": {
      "text/plain": [
       "['samim', 'lisa', 'somesh']"
      ]
     },
     "execution_count": 35,
     "metadata": {},
     "output_type": "execute_result"
    }
   ],
   "source": [
    "students"
   ]
  },
  {
   "cell_type": "code",
   "execution_count": 37,
   "id": "279f100f-8ad8-44d9-bbcc-3dcde5d49c57",
   "metadata": {},
   "outputs": [
    {
     "data": {
      "text/plain": [
       "0     samim\n",
       "1      lisa\n",
       "2    somesh\n",
       "dtype: object"
      ]
     },
     "execution_count": 37,
     "metadata": {},
     "output_type": "execute_result"
    }
   ],
   "source": [
    "students_s = pd.Series(students)\n",
    "students_s"
   ]
  },
  {
   "cell_type": "code",
   "execution_count": 38,
   "id": "c333320f-ebe1-4cea-93db-dfeb302449d9",
   "metadata": {},
   "outputs": [
    {
     "data": {
      "text/plain": [
       "dtype('O')"
      ]
     },
     "execution_count": 38,
     "metadata": {},
     "output_type": "execute_result"
    }
   ],
   "source": [
    "students_s.dtype"
   ]
  },
  {
   "cell_type": "markdown",
   "id": "1171e845-3de9-4c9d-aa46-905d0f8c3649",
   "metadata": {},
   "source": [
    "#what is dtype('o') \n"
   ]
  },
  {
   "cell_type": "markdown",
   "id": "aaf1bb32-47b5-4db2-b8ad-9f160214ee12",
   "metadata": {},
   "source": [
    "#numpy is homogenous. ont type of data type"
   ]
  },
  {
   "cell_type": "code",
   "execution_count": 39,
   "id": "543ba5c8-6246-4a24-9b4b-89db315ba06a",
   "metadata": {},
   "outputs": [
    {
     "data": {
      "text/plain": [
       "[1.2, 3.5, 6.8]"
      ]
     },
     "execution_count": 39,
     "metadata": {},
     "output_type": "execute_result"
    }
   ],
   "source": [
    "heights"
   ]
  },
  {
   "cell_type": "code",
   "execution_count": 40,
   "id": "bd6a3466-79c3-4d6f-b6b4-c734ca6212fe",
   "metadata": {},
   "outputs": [
    {
     "data": {
      "text/plain": [
       "0    1.2\n",
       "1    3.5\n",
       "2    6.8\n",
       "dtype: float64"
      ]
     },
     "execution_count": 40,
     "metadata": {},
     "output_type": "execute_result"
    }
   ],
   "source": [
    "pd.Series(heights)"
   ]
  },
  {
   "cell_type": "code",
   "execution_count": 41,
   "id": "19a75a0e-fc20-4e50-92d5-e586d0e41db5",
   "metadata": {},
   "outputs": [
    {
     "data": {
      "text/plain": [
       "0    1.2\n",
       "1    3.5\n",
       "2    6.8\n",
       "dtype: object"
      ]
     },
     "execution_count": 41,
     "metadata": {},
     "output_type": "execute_result"
    }
   ],
   "source": [
    "heights = [1.2, '3.5', 6.8]\n",
    "pd.Series(heights)   # see '3.5' is string, so its  now object"
   ]
  },
  {
   "cell_type": "markdown",
   "id": "10e759ca-c485-4671-b1c2-f538053f267a",
   "metadata": {},
   "source": [
    "#custom labels"
   ]
  },
  {
   "cell_type": "code",
   "execution_count": 44,
   "id": "70333c94-feb0-4780-81c5-6f3b978becb7",
   "metadata": {},
   "outputs": [
    {
     "data": {
      "text/plain": [
       "0    sam is good\n",
       "1        ramayan\n",
       "2     mahabharat\n",
       "dtype: object"
      ]
     },
     "execution_count": 44,
     "metadata": {},
     "output_type": "execute_result"
    }
   ],
   "source": [
    "list1 = [ 'sam is good','ramayan', 'mahabharat']\n",
    "list1_s =pd.Series(list1)\n",
    "list1_s"
   ]
  },
  {
   "cell_type": "code",
   "execution_count": 53,
   "id": "80f2d1c5-51d9-474a-8a7f-5f5e8e17ba85",
   "metadata": {},
   "outputs": [
    {
     "data": {
      "text/plain": [
       "a    sam is good\n",
       "b        ramayan\n",
       "c     mahabharat\n",
       "dtype: object"
      ]
     },
     "execution_count": 53,
     "metadata": {},
     "output_type": "execute_result"
    }
   ],
   "source": [
    "list1 = [ 'sam is good','ramayan', 'mahabharat']\n",
    "pd.Series(data=list1,index=['a','b','c'])\n",
    "\n",
    "                                           \n"
   ]
  },
  {
   "cell_type": "code",
   "execution_count": 54,
   "id": "728d7f52-70fe-4f38-a8d5-b940bf0cde7d",
   "metadata": {},
   "outputs": [
    {
     "data": {
      "text/plain": [
       "a    sam is good\n",
       "b        ramayan\n",
       "c     mahabharat\n",
       "dtype: object"
      ]
     },
     "execution_count": 54,
     "metadata": {},
     "output_type": "execute_result"
    }
   ],
   "source": [
    "pd.Series(list1,['a','b','c'])"
   ]
  },
  {
   "cell_type": "code",
   "execution_count": 55,
   "id": "894b3f51-72e8-479a-8648-6bd8f47de925",
   "metadata": {},
   "outputs": [
    {
     "data": {
      "text/plain": [
       "a    sam is good\n",
       "b        ramayan\n",
       "c     mahabharat\n",
       "dtype: object"
      ]
     },
     "execution_count": 55,
     "metadata": {},
     "output_type": "execute_result"
    }
   ],
   "source": [
    "pd.Series(data=list1,index=['a','b','c'], dtype=object)"
   ]
  },
  {
   "cell_type": "code",
   "execution_count": 56,
   "id": "0aa42886-5307-41e1-a65f-06be555d42b2",
   "metadata": {},
   "outputs": [
    {
     "data": {
      "text/plain": [
       "'2.0.3'"
      ]
     },
     "execution_count": 56,
     "metadata": {},
     "output_type": "execute_result"
    }
   ],
   "source": [
    "pd.__version__"
   ]
  },
  {
   "cell_type": "code",
   "execution_count": 59,
   "id": "ff6c3735-ac83-4ef5-9ded-c26888d04812",
   "metadata": {},
   "outputs": [
    {
     "data": {
      "text/plain": [
       "a    sam is good\n",
       "b        ramayan\n",
       "c     mahabharat\n",
       "dtype: string"
      ]
     },
     "execution_count": 59,
     "metadata": {},
     "output_type": "execute_result"
    }
   ],
   "source": [
    "list1_s = pd.Series(data=list1,index=['a','b','c'], dtype='string')\n",
    "list1_s"
   ]
  },
  {
   "cell_type": "code",
   "execution_count": 60,
   "id": "72c854ff-200a-4db7-a1c2-82ed20bb305b",
   "metadata": {},
   "outputs": [
    {
     "data": {
      "text/plain": [
       "Index(['a', 'b', 'c'], dtype='object')"
      ]
     },
     "execution_count": 60,
     "metadata": {},
     "output_type": "execute_result"
    }
   ],
   "source": [
    "list1_s.index"
   ]
  },
  {
   "cell_type": "code",
   "execution_count": 61,
   "id": "d77bb00e-c44f-432a-8418-7ff4f8fbf060",
   "metadata": {},
   "outputs": [
    {
     "data": {
      "text/plain": [
       "1    1\n",
       "2    5\n",
       "3    7\n",
       "dtype: int64"
      ]
     },
     "execution_count": 61,
     "metadata": {},
     "output_type": "execute_result"
    }
   ],
   "source": [
    "list1 = [1,5,7]\n",
    "list1_s = pd.Series(data=list1,index=[1,2,3])\n",
    "list1_s"
   ]
  },
  {
   "cell_type": "code",
   "execution_count": 62,
   "id": "5797996d-b22b-4e0d-8963-7539f4d0cce4",
   "metadata": {},
   "outputs": [
    {
     "data": {
      "text/plain": [
       "Index([1, 2, 3], dtype='int64')"
      ]
     },
     "execution_count": 62,
     "metadata": {},
     "output_type": "execute_result"
    }
   ],
   "source": [
    "list1_s.index"
   ]
  },
  {
   "cell_type": "markdown",
   "id": "10b04a13-c638-4f3c-acb9-54a87d15ad5c",
   "metadata": {},
   "source": [
    "#series and index names"
   ]
  },
  {
   "cell_type": "code",
   "execution_count": 67,
   "id": "e5733eea-6cd4-4cff-bae9-f4d31963c82c",
   "metadata": {},
   "outputs": [
    {
     "data": {
      "text/plain": [
       "3"
      ]
     },
     "execution_count": 67,
     "metadata": {},
     "output_type": "execute_result"
    }
   ],
   "source": [
    "list1_s.size    #size of panda series data"
   ]
  },
  {
   "cell_type": "code",
   "execution_count": 68,
   "id": "92760182-8446-40a5-9a04-364e19c9b72b",
   "metadata": {},
   "outputs": [
    {
     "data": {
      "text/plain": [
       "dtype('int64')"
      ]
     },
     "execution_count": 68,
     "metadata": {},
     "output_type": "execute_result"
    }
   ],
   "source": [
    "list1_s.dtype"
   ]
  },
  {
   "cell_type": "code",
   "execution_count": 69,
   "id": "57533670-2363-4e75-aa20-8a8233c5ec6c",
   "metadata": {},
   "outputs": [
    {
     "data": {
      "text/plain": [
       "0     sam\n",
       "1    mona\n",
       "2    dona\n",
       "dtype: object"
      ]
     },
     "execution_count": 69,
     "metadata": {},
     "output_type": "execute_result"
    }
   ],
   "source": [
    "list2 = ['sam', 'mona','dona']\n",
    "list2_s = pd.Series(list2)\n",
    "list2_s"
   ]
  },
  {
   "cell_type": "code",
   "execution_count": 70,
   "id": "fa13858f-3003-461f-a2c0-b522fd4210ab",
   "metadata": {},
   "outputs": [],
   "source": [
    "list2_s.name = 'som'"
   ]
  },
  {
   "cell_type": "code",
   "execution_count": 71,
   "id": "90aae367-996c-4c52-9b11-0da474c43b4a",
   "metadata": {},
   "outputs": [
    {
     "data": {
      "text/plain": [
       "0     sam\n",
       "1    mona\n",
       "2    dona\n",
       "Name: som, dtype: object"
      ]
     },
     "execution_count": 71,
     "metadata": {},
     "output_type": "execute_result"
    }
   ],
   "source": [
    "list2_s"
   ]
  },
  {
   "cell_type": "code",
   "execution_count": 73,
   "id": "eaba4f2e-692b-478c-b64e-f809487d2258",
   "metadata": {},
   "outputs": [
    {
     "data": {
      "text/plain": [
       "book\n",
       "0     sam\n",
       "1    mona\n",
       "2    dona\n",
       "Name: som, dtype: object"
      ]
     },
     "execution_count": 73,
     "metadata": {},
     "output_type": "execute_result"
    }
   ],
   "source": [
    "list2_s.index.name='book'  # naming index\n",
    "list2_s"
   ]
  },
  {
   "cell_type": "markdown",
   "id": "8884dadd-3b0e-4617-931d-5c8a4f606940",
   "metadata": {},
   "source": [
    "#PROJECT1"
   ]
  },
  {
   "cell_type": "code",
   "execution_count": 76,
   "id": "e635e5e1-86a1-48c2-88f9-c6e944e72a05",
   "metadata": {},
   "outputs": [
    {
     "data": {
      "text/plain": [
       "sam    12.5\n",
       "ram    30.5\n",
       "tam    35.2\n",
       "kam    50.3\n",
       "Name: actors, dtype: float64"
      ]
     },
     "execution_count": 76,
     "metadata": {},
     "output_type": "execute_result"
    }
   ],
   "source": [
    "actor_names = ['sam', 'ram','tam','kam']\n",
    "actor_ages = [ 12.5, 30.5, 35.2,50.3]\n",
    "list1_s = pd.Series(data=actor_ages,index=actor_names, name='actors')\n",
    "list1_s"
   ]
  },
  {
   "cell_type": "code",
   "execution_count": 77,
   "id": "74ba8158-8a95-429e-8ea1-17e608289518",
   "metadata": {},
   "outputs": [
    {
     "data": {
      "text/plain": [
       "sam    12.5\n",
       "ram    30.5\n",
       "tam    35.2\n",
       "kam    50.3\n",
       "dtype: float64"
      ]
     },
     "execution_count": 77,
     "metadata": {},
     "output_type": "execute_result"
    }
   ],
   "source": [
    "actor_dict = {'sam': 12.5, 'ram': 30.5,'tam':35.2,'kam': 50.3}\n",
    "actor_s = pd.Series(actor_dict)\n",
    "actor_s"
   ]
  },
  {
   "cell_type": "code",
   "execution_count": 78,
   "id": "07e26fbc-5e29-4857-b774-cc8b47daea3e",
   "metadata": {},
   "outputs": [
    {
     "data": {
      "text/plain": [
       "[('sam', 12.5), ('ram', 30.5), ('tam', 35.2), ('kam', 50.3)]"
      ]
     },
     "execution_count": 78,
     "metadata": {},
     "output_type": "execute_result"
    }
   ],
   "source": [
    "list(zip(actor_names,actor_ages))"
   ]
  },
  {
   "cell_type": "code",
   "execution_count": 79,
   "id": "3a6ecea4-af8a-4723-a3dc-cae784fe3b8f",
   "metadata": {},
   "outputs": [
    {
     "data": {
      "text/plain": [
       "{'sam': 12.5, 'ram': 30.5, 'tam': 35.2, 'kam': 50.3}"
      ]
     },
     "execution_count": 79,
     "metadata": {},
     "output_type": "execute_result"
    }
   ],
   "source": [
    "dict(zip(actor_names,actor_ages))"
   ]
  },
  {
   "cell_type": "code",
   "execution_count": 80,
   "id": "0cc3ee44-4bef-4996-b4f9-a3312dbd4d13",
   "metadata": {},
   "outputs": [
    {
     "data": {
      "text/plain": [
       "sam    12.5\n",
       "ram    30.5\n",
       "tam    35.2\n",
       "kam    50.3\n",
       "dtype: float64"
      ]
     },
     "execution_count": 80,
     "metadata": {},
     "output_type": "execute_result"
    }
   ],
   "source": [
    "pd.Series(dict(zip(actor_names,actor_ages)))"
   ]
  },
  {
   "cell_type": "code",
   "execution_count": 81,
   "id": "04f129e3-3cd2-46a2-a514-d6975b1ff612",
   "metadata": {},
   "outputs": [
    {
     "data": {
      "text/plain": [
       "{'sam': 12.5, 'ram': 30.5, 'tam': 35.2, 'kam': 50.3}"
      ]
     },
     "execution_count": 81,
     "metadata": {},
     "output_type": "execute_result"
    }
   ],
   "source": [
    "{name:age for name,age in zip(actor_names,actor_ages) }"
   ]
  },
  {
   "cell_type": "code",
   "execution_count": 82,
   "id": "0a6c589d-7d25-4eb5-926d-15c1bcf698c4",
   "metadata": {},
   "outputs": [
    {
     "data": {
      "text/plain": [
       "sam    12.5\n",
       "ram    30.5\n",
       "tam    35.2\n",
       "kam    50.3\n",
       "dtype: float64"
      ]
     },
     "execution_count": 82,
     "metadata": {},
     "output_type": "execute_result"
    }
   ],
   "source": [
    "pd.Series({name:age for name,age in zip(actor_names,actor_ages) })"
   ]
  },
  {
   "cell_type": "markdown",
   "id": "a3591b6d-f7f9-40ca-ae42-0b04f288c456",
   "metadata": {},
   "source": [
    "#head() and tail() method"
   ]
  },
  {
   "cell_type": "code",
   "execution_count": 83,
   "id": "da7e50e0-9611-4485-9e14-d4e5c4eab069",
   "metadata": {},
   "outputs": [
    {
     "data": {
      "text/plain": [
       "0    0\n",
       "1    1\n",
       "2    2\n",
       "3    3\n",
       "4    4\n",
       "5    5\n",
       "6    6\n",
       "7    7\n",
       "8    8\n",
       "9    9\n",
       "dtype: int64"
      ]
     },
     "execution_count": 83,
     "metadata": {},
     "output_type": "execute_result"
    }
   ],
   "source": [
    "i_s = pd.Series([i for i in range(10)])\n",
    "i_s"
   ]
  },
  {
   "cell_type": "code",
   "execution_count": 84,
   "id": "d4eb83b5-31bb-4967-aa46-079ae2e4974a",
   "metadata": {},
   "outputs": [
    {
     "data": {
      "text/plain": [
       "0    0\n",
       "1    1\n",
       "2    2\n",
       "3    3\n",
       "4    4\n",
       "5    5\n",
       "6    6\n",
       "7    7\n",
       "8    8\n",
       "9    9\n",
       "dtype: int64"
      ]
     },
     "execution_count": 84,
     "metadata": {},
     "output_type": "execute_result"
    }
   ],
   "source": [
    "pd.Series(range(10))"
   ]
  },
  {
   "cell_type": "code",
   "execution_count": 85,
   "id": "4829b5f5-6a2a-400f-853f-834002bc80ab",
   "metadata": {},
   "outputs": [
    {
     "data": {
      "text/plain": [
       "10"
      ]
     },
     "execution_count": 85,
     "metadata": {},
     "output_type": "execute_result"
    }
   ],
   "source": [
    "i_s.size"
   ]
  },
  {
   "cell_type": "code",
   "execution_count": 86,
   "id": "1be00280-a687-46d9-b8cf-e2e2610d6490",
   "metadata": {},
   "outputs": [
    {
     "data": {
      "text/plain": [
       "10"
      ]
     },
     "execution_count": 86,
     "metadata": {},
     "output_type": "execute_result"
    }
   ],
   "source": [
    "len(i_s)"
   ]
  },
  {
   "cell_type": "code",
   "execution_count": 87,
   "id": "9eee20b1-484f-43bc-91a7-7f4bf54cc6c1",
   "metadata": {},
   "outputs": [
    {
     "data": {
      "text/plain": [
       "0    0\n",
       "1    1\n",
       "2    2\n",
       "3    3\n",
       "4    4\n",
       "dtype: int64"
      ]
     },
     "execution_count": 87,
     "metadata": {},
     "output_type": "execute_result"
    }
   ],
   "source": [
    "i_s.head()"
   ]
  },
  {
   "cell_type": "code",
   "execution_count": 88,
   "id": "123c9b58-90ff-4374-ba05-e69f2dab6327",
   "metadata": {},
   "outputs": [
    {
     "data": {
      "text/plain": [
       "5    5\n",
       "6    6\n",
       "7    7\n",
       "8    8\n",
       "9    9\n",
       "dtype: int64"
      ]
     },
     "execution_count": 88,
     "metadata": {},
     "output_type": "execute_result"
    }
   ],
   "source": [
    "i_s.tail()"
   ]
  },
  {
   "cell_type": "code",
   "execution_count": 89,
   "id": "6a2a16a3-bfd9-4b27-a490-159806f97f81",
   "metadata": {},
   "outputs": [
    {
     "data": {
      "text/plain": [
       "0    0\n",
       "1    1\n",
       "2    2\n",
       "dtype: int64"
      ]
     },
     "execution_count": 89,
     "metadata": {},
     "output_type": "execute_result"
    }
   ],
   "source": [
    "i_s.head(3)"
   ]
  },
  {
   "cell_type": "code",
   "execution_count": 90,
   "id": "40a119ae-57ae-49c4-a515-c206e46f9dfa",
   "metadata": {},
   "outputs": [
    {
     "data": {
      "text/plain": [
       "0    0\n",
       "1    1\n",
       "2    2\n",
       "dtype: int64"
      ]
     },
     "execution_count": 90,
     "metadata": {},
     "output_type": "execute_result"
    }
   ],
   "source": [
    "i_s.head(n=3)"
   ]
  },
  {
   "cell_type": "code",
   "execution_count": 91,
   "id": "7142ffc6-0b74-4d13-9803-33cf3fd3103f",
   "metadata": {},
   "outputs": [
    {
     "data": {
      "text/plain": [
       "3    3\n",
       "4    4\n",
       "5    5\n",
       "6    6\n",
       "7    7\n",
       "8    8\n",
       "9    9\n",
       "dtype: int64"
      ]
     },
     "execution_count": 91,
     "metadata": {},
     "output_type": "execute_result"
    }
   ],
   "source": [
    "i_s.tail(n=7)"
   ]
  },
  {
   "cell_type": "code",
   "execution_count": 92,
   "id": "c8842f7c-4edd-4eed-be9d-e551f590e988",
   "metadata": {},
   "outputs": [
    {
     "data": {
      "text/plain": [
       "0        0\n",
       "1        1\n",
       "2        2\n",
       "3        3\n",
       "4        4\n",
       "      ... \n",
       "995    995\n",
       "996    996\n",
       "997    997\n",
       "998    998\n",
       "999    999\n",
       "Length: 1000, dtype: int64"
      ]
     },
     "execution_count": 92,
     "metadata": {},
     "output_type": "execute_result"
    }
   ],
   "source": [
    "pd.Series(range(1000))"
   ]
  },
  {
   "cell_type": "code",
   "execution_count": 93,
   "id": "c9197bdd-6ef6-44fd-b7f7-8e0e48166ba6",
   "metadata": {},
   "outputs": [],
   "source": [
    "from string import ascii_lowercase"
   ]
  },
  {
   "cell_type": "code",
   "execution_count": 94,
   "id": "15cb3cd4-07aa-4287-9545-38d26f13d84e",
   "metadata": {},
   "outputs": [
    {
     "data": {
      "text/plain": [
       "'abcdefghijklmnopqrstuvwxyz'"
      ]
     },
     "execution_count": 94,
     "metadata": {},
     "output_type": "execute_result"
    }
   ],
   "source": [
    "ascii_lowercase"
   ]
  },
  {
   "cell_type": "code",
   "execution_count": 95,
   "id": "f4d43254-577d-441e-a452-86f106fcd7c2",
   "metadata": {},
   "outputs": [
    {
     "data": {
      "text/plain": [
       "0    abcdefghijklmnopqrstuvwxyz\n",
       "dtype: object"
      ]
     },
     "execution_count": 95,
     "metadata": {},
     "output_type": "execute_result"
    }
   ],
   "source": [
    "pd.Series(ascii_lowercase)"
   ]
  },
  {
   "cell_type": "code",
   "execution_count": 96,
   "id": "14426a54-3e93-4779-9ea7-664c8464b60d",
   "metadata": {},
   "outputs": [
    {
     "data": {
      "text/plain": [
       "['a',\n",
       " 'b',\n",
       " 'c',\n",
       " 'd',\n",
       " 'e',\n",
       " 'f',\n",
       " 'g',\n",
       " 'h',\n",
       " 'i',\n",
       " 'j',\n",
       " 'k',\n",
       " 'l',\n",
       " 'm',\n",
       " 'n',\n",
       " 'o',\n",
       " 'p',\n",
       " 'q',\n",
       " 'r',\n",
       " 's',\n",
       " 't',\n",
       " 'u',\n",
       " 'v',\n",
       " 'w',\n",
       " 'x',\n",
       " 'y',\n",
       " 'z']"
      ]
     },
     "execution_count": 96,
     "metadata": {},
     "output_type": "execute_result"
    }
   ],
   "source": [
    "list(ascii_lowercase)"
   ]
  },
  {
   "cell_type": "code",
   "execution_count": 97,
   "id": "6c9475d5-fabc-40d9-80c3-56d9f68b8c10",
   "metadata": {},
   "outputs": [
    {
     "data": {
      "text/plain": [
       "26"
      ]
     },
     "execution_count": 97,
     "metadata": {},
     "output_type": "execute_result"
    }
   ],
   "source": [
    "len(list(ascii_lowercase))"
   ]
  },
  {
   "cell_type": "code",
   "execution_count": 98,
   "id": "9be2ca8f-6ab0-4b39-9b99-874af9d73ebd",
   "metadata": {},
   "outputs": [
    {
     "data": {
      "text/plain": [
       "['a',\n",
       " 'b',\n",
       " 'c',\n",
       " 'd',\n",
       " 'e',\n",
       " 'f',\n",
       " 'g',\n",
       " 'h',\n",
       " 'i',\n",
       " 'j',\n",
       " 'k',\n",
       " 'l',\n",
       " 'm',\n",
       " 'n',\n",
       " 'o',\n",
       " 'p',\n",
       " 'q',\n",
       " 'r',\n",
       " 's',\n",
       " 't',\n",
       " 'u',\n",
       " 'v',\n",
       " 'w',\n",
       " 'x',\n",
       " 'y',\n",
       " 'z']"
      ]
     },
     "execution_count": 98,
     "metadata": {},
     "output_type": "execute_result"
    }
   ],
   "source": [
    "letters = list(ascii_lowercase)\n",
    "letters"
   ]
  },
  {
   "cell_type": "code",
   "execution_count": 99,
   "id": "1dc324f2-f58a-4cb4-a3cc-212fbdc7fcf6",
   "metadata": {},
   "outputs": [
    {
     "data": {
      "text/plain": [
       "0     a\n",
       "1     b\n",
       "2     c\n",
       "3     d\n",
       "4     e\n",
       "5     f\n",
       "6     g\n",
       "7     h\n",
       "8     i\n",
       "9     j\n",
       "10    k\n",
       "11    l\n",
       "12    m\n",
       "13    n\n",
       "14    o\n",
       "15    p\n",
       "16    q\n",
       "17    r\n",
       "18    s\n",
       "19    t\n",
       "20    u\n",
       "21    v\n",
       "22    w\n",
       "23    x\n",
       "24    y\n",
       "25    z\n",
       "dtype: object"
      ]
     },
     "execution_count": 99,
     "metadata": {},
     "output_type": "execute_result"
    }
   ],
   "source": [
    "alphabet = pd.Series(letters)\n",
    "alphabet"
   ]
  },
  {
   "cell_type": "code",
   "execution_count": 100,
   "id": "b9deb608-913b-4ce9-b053-a837737162cf",
   "metadata": {},
   "outputs": [
    {
     "data": {
      "text/plain": [
       "0     a\n",
       "1     b\n",
       "2     c\n",
       "3     d\n",
       "4     e\n",
       "5     f\n",
       "6     g\n",
       "7     h\n",
       "8     i\n",
       "9     j\n",
       "10    k\n",
       "11    l\n",
       "12    m\n",
       "13    n\n",
       "14    o\n",
       "15    p\n",
       "16    q\n",
       "17    r\n",
       "18    s\n",
       "19    t\n",
       "20    u\n",
       "21    v\n",
       "22    w\n",
       "23    x\n",
       "24    y\n",
       "25    z\n",
       "dtype: object"
      ]
     },
     "execution_count": 100,
     "metadata": {},
     "output_type": "execute_result"
    }
   ],
   "source": [
    "alphabet = pd.Series(data=letters)\n",
    "alphabet"
   ]
  },
  {
   "cell_type": "code",
   "execution_count": 103,
   "id": "e1edb94a-7754-4752-89d0-d47e09114ead",
   "metadata": {},
   "outputs": [
    {
     "data": {
      "text/plain": [
       "'a'"
      ]
     },
     "execution_count": 103,
     "metadata": {},
     "output_type": "execute_result"
    }
   ],
   "source": [
    "alphabet[0]    #index 0"
   ]
  },
  {
   "cell_type": "code",
   "execution_count": 102,
   "id": "23b2fc78-8ac4-486e-ac5d-c49618156d4a",
   "metadata": {},
   "outputs": [
    {
     "data": {
      "text/plain": [
       "0    a\n",
       "dtype: object"
      ]
     },
     "execution_count": 102,
     "metadata": {},
     "output_type": "execute_result"
    }
   ],
   "source": [
    "alphabet.head(1)"
   ]
  },
  {
   "cell_type": "code",
   "execution_count": 104,
   "id": "f94d80af-3686-496e-884f-d3c82eee6ee9",
   "metadata": {},
   "outputs": [
    {
     "data": {
      "text/plain": [
       "0    a\n",
       "1    b\n",
       "2    c\n",
       "dtype: object"
      ]
     },
     "execution_count": 104,
     "metadata": {},
     "output_type": "execute_result"
    }
   ],
   "source": [
    "alphabet[0:3]"
   ]
  },
  {
   "cell_type": "code",
   "execution_count": 105,
   "id": "6446cb11-5ce6-4c2a-8004-249959cdc051",
   "metadata": {},
   "outputs": [
    {
     "data": {
      "text/plain": [
       "0    a\n",
       "1    b\n",
       "2    c\n",
       "dtype: object"
      ]
     },
     "execution_count": 105,
     "metadata": {},
     "output_type": "execute_result"
    }
   ],
   "source": [
    "alphabet[:3]"
   ]
  },
  {
   "cell_type": "code",
   "execution_count": 106,
   "id": "e96e2b71-454d-47f5-ab5a-9f6d42b49428",
   "metadata": {},
   "outputs": [
    {
     "data": {
      "text/plain": [
       "5    f\n",
       "6    g\n",
       "7    h\n",
       "8    i\n",
       "9    j\n",
       "dtype: object"
      ]
     },
     "execution_count": 106,
     "metadata": {},
     "output_type": "execute_result"
    }
   ],
   "source": [
    "alphabet[5:10]"
   ]
  },
  {
   "cell_type": "code",
   "execution_count": 108,
   "id": "c402dd75-1564-4852-ade8-7e8c5160a8b3",
   "metadata": {},
   "outputs": [
    {
     "data": {
      "text/plain": [
       "20    u\n",
       "21    v\n",
       "22    w\n",
       "23    x\n",
       "24    y\n",
       "25    z\n",
       "dtype: object"
      ]
     },
     "execution_count": 108,
     "metadata": {},
     "output_type": "execute_result"
    }
   ],
   "source": [
    "alphabet[-6:]"
   ]
  },
  {
   "cell_type": "code",
   "execution_count": 109,
   "id": "c4e44081-1ad8-40f8-b0a2-b3cc7838494a",
   "metadata": {},
   "outputs": [
    {
     "data": {
      "text/plain": [
       "'abcdefghijklmnopqrstuvwxyz'"
      ]
     },
     "execution_count": 109,
     "metadata": {},
     "output_type": "execute_result"
    }
   ],
   "source": [
    "ascii_lowercase"
   ]
  },
  {
   "cell_type": "code",
   "execution_count": 111,
   "id": "1c466999-d180-42c0-8438-30018b058f53",
   "metadata": {},
   "outputs": [
    {
     "data": {
      "text/plain": [
       "'ABCDEFGHIJKLMNOPQRSTUVWXYZ'"
      ]
     },
     "execution_count": 111,
     "metadata": {},
     "output_type": "execute_result"
    }
   ],
   "source": [
    "from string import ascii_uppercase\n",
    "ascii_uppercase"
   ]
  },
  {
   "cell_type": "code",
   "execution_count": 113,
   "id": "b79de9e6-9d2b-42fb-ba0d-ced520b2664e",
   "metadata": {},
   "outputs": [
    {
     "data": {
      "text/plain": [
       "A    a\n",
       "B    b\n",
       "C    c\n",
       "dtype: object"
      ]
     },
     "execution_count": 113,
     "metadata": {},
     "output_type": "execute_result"
    }
   ],
   "source": [
    "letters = pd.Series(data=list(ascii_lowercase),index=list(ascii_uppercase))\n",
    "letters.head(3)"
   ]
  },
  {
   "cell_type": "code",
   "execution_count": 115,
   "id": "4d4e8472-a593-4acc-8bc2-f8e63b8f901c",
   "metadata": {},
   "outputs": [
    {
     "data": {
      "text/plain": [
       "label_A    a\n",
       "label_B    b\n",
       "label_C    c\n",
       "dtype: object"
      ]
     },
     "execution_count": 115,
     "metadata": {},
     "output_type": "execute_result"
    }
   ],
   "source": [
    "letters = pd.Series(data=list(ascii_lowercase),index=map(lambda x: 'label_' + x , list(ascii_uppercase)))\n",
    "letters.head(3)"
   ]
  },
  {
   "cell_type": "code",
   "execution_count": 116,
   "id": "fb421d46-dad0-4b57-ab9a-c380a96ea87a",
   "metadata": {},
   "outputs": [
    {
     "data": {
      "text/plain": [
       "'a'"
      ]
     },
     "execution_count": 116,
     "metadata": {},
     "output_type": "execute_result"
    }
   ],
   "source": [
    "letters[0]"
   ]
  },
  {
   "cell_type": "code",
   "execution_count": 117,
   "id": "11fe7d0f-e040-416b-ae37-4655d2e81faa",
   "metadata": {},
   "outputs": [
    {
     "data": {
      "text/plain": [
       "'a'"
      ]
     },
     "execution_count": 117,
     "metadata": {},
     "output_type": "execute_result"
    }
   ],
   "source": [
    "letters['label_A']"
   ]
  },
  {
   "cell_type": "code",
   "execution_count": 118,
   "id": "2bb6bea8-dba6-430e-bb34-e23e48ccdfee",
   "metadata": {},
   "outputs": [
    {
     "data": {
      "text/plain": [
       "label_A    a\n",
       "label_B    b\n",
       "label_C    c\n",
       "dtype: object"
      ]
     },
     "execution_count": 118,
     "metadata": {},
     "output_type": "execute_result"
    }
   ],
   "source": [
    "letters[0:3]"
   ]
  },
  {
   "cell_type": "code",
   "execution_count": 119,
   "id": "9a8cf088-7baa-45a2-8c23-10eac06d24cc",
   "metadata": {},
   "outputs": [
    {
     "data": {
      "text/plain": [
       "label_A    a\n",
       "label_B    b\n",
       "label_C    c\n",
       "dtype: object"
      ]
     },
     "execution_count": 119,
     "metadata": {},
     "output_type": "execute_result"
    }
   ],
   "source": [
    "letters[:3]"
   ]
  },
  {
   "cell_type": "code",
   "execution_count": 121,
   "id": "ff7b34a1-2e37-402f-8008-7b68675220eb",
   "metadata": {},
   "outputs": [
    {
     "data": {
      "text/plain": [
       "label_A    a\n",
       "label_B    b\n",
       "label_C    c\n",
       "dtype: object"
      ]
     },
     "execution_count": 121,
     "metadata": {},
     "output_type": "execute_result"
    }
   ],
   "source": [
    "letters[:'label_C']"
   ]
  },
  {
   "cell_type": "code",
   "execution_count": 126,
   "id": "9390432d-07d8-4ffe-9cb0-3ba5f556db78",
   "metadata": {},
   "outputs": [
    {
     "data": {
      "text/plain": [
       "label_F    f\n",
       "label_G    g\n",
       "label_H    h\n",
       "label_I    i\n",
       "label_J    j\n",
       "dtype: object"
      ]
     },
     "execution_count": 126,
     "metadata": {},
     "output_type": "execute_result"
    }
   ],
   "source": [
    "letters['label_F':'label_J']"
   ]
  },
  {
   "cell_type": "code",
   "execution_count": 128,
   "id": "ae46603a-ddb8-47bc-96c6-5bbb694e4f25",
   "metadata": {},
   "outputs": [
    {
     "data": {
      "text/plain": [
       "label_label_A    a\n",
       "label_label_B    b\n",
       "label_label_C    c\n",
       "label_label_D    d\n",
       "label_label_E    e\n",
       "label_label_F    f\n",
       "label_label_G    g\n",
       "label_label_H    h\n",
       "label_label_I    i\n",
       "label_label_J    j\n",
       "label_label_K    k\n",
       "label_label_L    l\n",
       "label_label_M    m\n",
       "label_label_N    n\n",
       "label_label_O    o\n",
       "label_label_P    p\n",
       "label_label_Q    q\n",
       "label_label_R    r\n",
       "label_label_S    s\n",
       "label_label_T    t\n",
       "label_label_U    u\n",
       "label_label_V    v\n",
       "label_label_W    w\n",
       "label_label_X    x\n",
       "label_label_Y    y\n",
       "label_label_Z    z\n",
       "dtype: object"
      ]
     },
     "execution_count": 128,
     "metadata": {},
     "output_type": "execute_result"
    }
   ],
   "source": [
    "letters.add_prefix('label_')"
   ]
  },
  {
   "cell_type": "code",
   "execution_count": 129,
   "id": "5f7a882e-0f3f-488f-8409-d0fb7544a5f8",
   "metadata": {},
   "outputs": [
    {
     "data": {
      "text/plain": [
       "label_Asam    a\n",
       "label_Bsam    b\n",
       "label_Csam    c\n",
       "label_Dsam    d\n",
       "label_Esam    e\n",
       "label_Fsam    f\n",
       "label_Gsam    g\n",
       "label_Hsam    h\n",
       "label_Isam    i\n",
       "label_Jsam    j\n",
       "label_Ksam    k\n",
       "label_Lsam    l\n",
       "label_Msam    m\n",
       "label_Nsam    n\n",
       "label_Osam    o\n",
       "label_Psam    p\n",
       "label_Qsam    q\n",
       "label_Rsam    r\n",
       "label_Ssam    s\n",
       "label_Tsam    t\n",
       "label_Usam    u\n",
       "label_Vsam    v\n",
       "label_Wsam    w\n",
       "label_Xsam    x\n",
       "label_Ysam    y\n",
       "label_Zsam    z\n",
       "dtype: object"
      ]
     },
     "execution_count": 129,
     "metadata": {},
     "output_type": "execute_result"
    }
   ],
   "source": [
    "letters.add_suffix('sam')"
   ]
  },
  {
   "cell_type": "code",
   "execution_count": 131,
   "id": "928ac952-1395-4949-8121-9fbe8b329684",
   "metadata": {},
   "outputs": [
    {
     "data": {
      "text/plain": [
       "label_A    a\n",
       "label_B    b\n",
       "label_C    c\n",
       "label_D    d\n",
       "label_E    e\n",
       "dtype: object"
      ]
     },
     "execution_count": 131,
     "metadata": {},
     "output_type": "execute_result"
    }
   ],
   "source": [
    "letters.head()"
   ]
  },
  {
   "cell_type": "code",
   "execution_count": 132,
   "id": "9b306c13-9c16-430c-a607-a3f1c2b3c920",
   "metadata": {},
   "outputs": [
    {
     "data": {
      "text/plain": [
       "'a'"
      ]
     },
     "execution_count": 132,
     "metadata": {},
     "output_type": "execute_result"
    }
   ],
   "source": [
    "letters['label_A']"
   ]
  },
  {
   "cell_type": "code",
   "execution_count": 133,
   "id": "fc22b652-67c1-4d71-b541-de6b93135a1b",
   "metadata": {},
   "outputs": [
    {
     "data": {
      "text/plain": [
       "'a'"
      ]
     },
     "execution_count": 133,
     "metadata": {},
     "output_type": "execute_result"
    }
   ],
   "source": [
    "letters.label_A"
   ]
  },
  {
   "cell_type": "code",
   "execution_count": 135,
   "id": "07882be9-42ad-4021-8d20-959188b5bec0",
   "metadata": {},
   "outputs": [
    {
     "data": {
      "text/plain": [
       "label_A    a\n",
       "label_B    b\n",
       "label_C    c\n",
       "label_D    d\n",
       "label_E    e\n",
       "label_F    f\n",
       "dtype: object"
      ]
     },
     "execution_count": 135,
     "metadata": {},
     "output_type": "execute_result"
    }
   ],
   "source": [
    "letters['label_A':'label_F']"
   ]
  },
  {
   "cell_type": "code",
   "execution_count": 136,
   "id": "d2dd9e3a-6e8e-44a9-a67f-62839a866de1",
   "metadata": {},
   "outputs": [
    {
     "data": {
      "text/plain": [
       "label_A    a\n",
       "label_B    b\n",
       "label_C    c\n",
       "label_D    d\n",
       "label_E    e\n",
       "label_F    f\n",
       "dtype: object"
      ]
     },
     "execution_count": 136,
     "metadata": {},
     "output_type": "execute_result"
    }
   ],
   "source": [
    "letters.loc['label_A':'label_F']"
   ]
  },
  {
   "cell_type": "code",
   "execution_count": 138,
   "id": "332bc4ec-b25b-42bb-a0bb-cfb018f74b74",
   "metadata": {},
   "outputs": [],
   "source": [
    "letter1 = letters.head(3)"
   ]
  },
  {
   "cell_type": "code",
   "execution_count": 139,
   "id": "6db1af5e-f8e7-4066-a68a-986abf371050",
   "metadata": {},
   "outputs": [
    {
     "data": {
      "text/plain": [
       "label_A    a\n",
       "label_C    c\n",
       "dtype: object"
      ]
     },
     "execution_count": 139,
     "metadata": {},
     "output_type": "execute_result"
    }
   ],
   "source": [
    "letter1.loc[[True,False,True]]"
   ]
  },
  {
   "cell_type": "code",
   "execution_count": 140,
   "id": "802725fe-1ed3-4107-8006-a0037785967f",
   "metadata": {},
   "outputs": [
    {
     "data": {
      "text/plain": [
       "label_A    a\n",
       "label_B    b\n",
       "label_C    c\n",
       "dtype: object"
      ]
     },
     "execution_count": 140,
     "metadata": {},
     "output_type": "execute_result"
    }
   ],
   "source": [
    "letter1.loc[[True,True,True]]"
   ]
  },
  {
   "cell_type": "code",
   "execution_count": 143,
   "id": "dbe35059-7c43-4997-89c7-b00645d0e5bc",
   "metadata": {},
   "outputs": [
    {
     "data": {
      "text/plain": [
       "label_A    a\n",
       "label_B    b\n",
       "label_C    c\n",
       "label_D    d\n",
       "label_E    e\n",
       "label_F    f\n",
       "label_G    g\n",
       "label_H    h\n",
       "label_I    i\n",
       "label_J    j\n",
       "label_K    k\n",
       "label_L    l\n",
       "label_M    m\n",
       "label_N    n\n",
       "label_O    o\n",
       "label_P    p\n",
       "label_Q    q\n",
       "label_R    r\n",
       "label_S    s\n",
       "label_T    t\n",
       "label_U    u\n",
       "label_V    v\n",
       "label_W    w\n",
       "label_X    x\n",
       "label_Y    y\n",
       "label_Z    z\n",
       "dtype: object"
      ]
     },
     "execution_count": 143,
     "metadata": {},
     "output_type": "execute_result"
    }
   ],
   "source": [
    "letters.loc[[ True for i in range(26)]]"
   ]
  },
  {
   "cell_type": "code",
   "execution_count": 144,
   "id": "c6877de9-3969-4f83-b8d2-f9facf2f8456",
   "metadata": {},
   "outputs": [
    {
     "data": {
      "text/plain": [
       "label_A    a\n",
       "label_C    c\n",
       "label_E    e\n",
       "label_G    g\n",
       "label_I    i\n",
       "label_K    k\n",
       "label_M    m\n",
       "label_O    o\n",
       "label_Q    q\n",
       "label_S    s\n",
       "label_U    u\n",
       "label_W    w\n",
       "label_Y    y\n",
       "dtype: object"
      ]
     },
     "execution_count": 144,
     "metadata": {},
     "output_type": "execute_result"
    }
   ],
   "source": [
    "letters.loc[[ True if i%2==0 else False for i in range(26)]]"
   ]
  },
  {
   "cell_type": "markdown",
   "id": "1da3cbdb-1519-4e8c-a099-248aeb478842",
   "metadata": {},
   "source": [
    "#iloc means integer loc. indexing by position\n",
    "#loc means location. indexing by label"
   ]
  },
  {
   "cell_type": "code",
   "execution_count": 146,
   "id": "4ac98dce-add2-478b-93d0-e2d5a06d05cc",
   "metadata": {},
   "outputs": [
    {
     "data": {
      "text/plain": [
       "0     a\n",
       "1     b\n",
       "2     c\n",
       "3     d\n",
       "4     e\n",
       "5     f\n",
       "6     g\n",
       "7     h\n",
       "8     i\n",
       "9     j\n",
       "10    k\n",
       "11    l\n",
       "12    m\n",
       "13    n\n",
       "14    o\n",
       "15    p\n",
       "16    q\n",
       "17    r\n",
       "18    s\n",
       "19    t\n",
       "20    u\n",
       "21    v\n",
       "22    w\n",
       "23    x\n",
       "24    y\n",
       "25    z\n",
       "dtype: object"
      ]
     },
     "execution_count": 146,
     "metadata": {},
     "output_type": "execute_result"
    }
   ],
   "source": [
    "from string import ascii_lowercase\n",
    "from string import ascii_uppercase\n",
    "letters = pd.Series([i for i in list(ascii_lowercase)])\n",
    "letters"
   ]
  },
  {
   "cell_type": "code",
   "execution_count": 147,
   "id": "8d439033-6ec1-4d49-96f1-b57b5b503ec7",
   "metadata": {},
   "outputs": [
    {
     "data": {
      "text/plain": [
       "A    a\n",
       "B    b\n",
       "C    c\n",
       "D    d\n",
       "E    e\n",
       "F    f\n",
       "G    g\n",
       "H    h\n",
       "I    i\n",
       "J    j\n",
       "K    k\n",
       "L    l\n",
       "M    m\n",
       "N    n\n",
       "O    o\n",
       "P    p\n",
       "Q    q\n",
       "R    r\n",
       "S    s\n",
       "T    t\n",
       "U    u\n",
       "V    v\n",
       "W    w\n",
       "X    x\n",
       "Y    y\n",
       "Z    z\n",
       "dtype: object"
      ]
     },
     "execution_count": 147,
     "metadata": {},
     "output_type": "execute_result"
    }
   ],
   "source": [
    "letters = pd.Series(data=[i for i in list(ascii_lowercase)], index=list(ascii_uppercase))\n",
    "letters"
   ]
  },
  {
   "cell_type": "code",
   "execution_count": 148,
   "id": "c88d9324-4157-46c8-89f5-5bffbdcea634",
   "metadata": {},
   "outputs": [
    {
     "data": {
      "text/plain": [
       "label_A    a\n",
       "label_B    b\n",
       "label_C    c\n",
       "label_D    d\n",
       "label_E    e\n",
       "label_F    f\n",
       "label_G    g\n",
       "label_H    h\n",
       "label_I    i\n",
       "label_J    j\n",
       "label_K    k\n",
       "label_L    l\n",
       "label_M    m\n",
       "label_N    n\n",
       "label_O    o\n",
       "label_P    p\n",
       "label_Q    q\n",
       "label_R    r\n",
       "label_S    s\n",
       "label_T    t\n",
       "label_U    u\n",
       "label_V    v\n",
       "label_W    w\n",
       "label_X    x\n",
       "label_Y    y\n",
       "label_Z    z\n",
       "dtype: object"
      ]
     },
     "execution_count": 148,
     "metadata": {},
     "output_type": "execute_result"
    }
   ],
   "source": [
    "letters = pd.Series(data=[i for i in list(ascii_lowercase)], index=list(map(lambda x: 'label_' +x ,list(ascii_uppercase))))\n",
    "letters"
   ]
  },
  {
   "cell_type": "code",
   "execution_count": 149,
   "id": "36452712-fa66-4473-b847-a836b1bd3a98",
   "metadata": {},
   "outputs": [
    {
     "data": {
      "text/plain": [
       "'a'"
      ]
     },
     "execution_count": 149,
     "metadata": {},
     "output_type": "execute_result"
    }
   ],
   "source": [
    "letters.iloc[0]"
   ]
  },
  {
   "cell_type": "code",
   "execution_count": 150,
   "id": "a9ff4260-0047-4191-844e-63789d93f94e",
   "metadata": {},
   "outputs": [
    {
     "data": {
      "text/plain": [
       "label_B    b\n",
       "label_C    c\n",
       "dtype: object"
      ]
     },
     "execution_count": 150,
     "metadata": {},
     "output_type": "execute_result"
    }
   ],
   "source": [
    "letters.iloc[1:3]"
   ]
  },
  {
   "cell_type": "code",
   "execution_count": 151,
   "id": "00f78d9b-8c17-473a-9ee2-5cf0375d85f2",
   "metadata": {},
   "outputs": [
    {
     "data": {
      "text/plain": [
       "label_B    b\n",
       "label_E    e\n",
       "label_J    j\n",
       "dtype: object"
      ]
     },
     "execution_count": 151,
     "metadata": {},
     "output_type": "execute_result"
    }
   ],
   "source": [
    "letters.iloc[[1,4,9]]"
   ]
  },
  {
   "cell_type": "code",
   "execution_count": 154,
   "id": "57e33201-96f4-45bc-ba26-95c0bc1a5333",
   "metadata": {},
   "outputs": [
    {
     "data": {
      "text/plain": [
       "label_A    a\n",
       "label_B    b\n",
       "label_C    c\n",
       "label_D    d\n",
       "label_E    e\n",
       "label_F    f\n",
       "label_G    g\n",
       "label_H    h\n",
       "label_I    i\n",
       "label_J    j\n",
       "label_K    k\n",
       "label_L    l\n",
       "label_M    m\n",
       "label_N    n\n",
       "label_O    o\n",
       "label_P    p\n",
       "label_Q    q\n",
       "label_R    r\n",
       "label_S    s\n",
       "label_T    t\n",
       "label_U    u\n",
       "label_V    v\n",
       "label_W    w\n",
       "label_X    x\n",
       "dtype: object"
      ]
     },
     "execution_count": 154,
     "metadata": {},
     "output_type": "execute_result"
    }
   ],
   "source": [
    "letters.iloc[:-2]"
   ]
  },
  {
   "cell_type": "code",
   "execution_count": 155,
   "id": "179204f0-978f-45a5-a330-b0f97f9b175e",
   "metadata": {},
   "outputs": [
    {
     "data": {
      "text/plain": [
       "'a'"
      ]
     },
     "execution_count": 155,
     "metadata": {},
     "output_type": "execute_result"
    }
   ],
   "source": [
    "letters.loc['label_A']"
   ]
  },
  {
   "cell_type": "code",
   "execution_count": 156,
   "id": "a9f8a9d3-47a1-42d2-bf2d-7d5b2c513959",
   "metadata": {},
   "outputs": [
    {
     "data": {
      "text/plain": [
       "'a'"
      ]
     },
     "execution_count": 156,
     "metadata": {},
     "output_type": "execute_result"
    }
   ],
   "source": [
    "letters.loc[lambda x: 'label_A']"
   ]
  },
  {
   "cell_type": "code",
   "execution_count": 159,
   "id": "982bc603-c6a0-4e0d-a8ec-c573ade11f61",
   "metadata": {},
   "outputs": [
    {
     "data": {
      "text/plain": [
       "label_A    a\n",
       "label_B    b\n",
       "dtype: object"
      ]
     },
     "execution_count": 159,
     "metadata": {},
     "output_type": "execute_result"
    }
   ],
   "source": [
    "letters.loc[lambda x: ['label_A', 'label_B']]     #A lambda function is a small anonymous function.  lambda arguments : expression\n"
   ]
  },
  {
   "cell_type": "code",
   "execution_count": 167,
   "id": "16c2bd96-3ec5-4092-b89b-e73cf2fcb9fd",
   "metadata": {},
   "outputs": [
    {
     "data": {
      "text/plain": [
       "<function __main__.<lambda>(x)>"
      ]
     },
     "execution_count": 167,
     "metadata": {},
     "output_type": "execute_result"
    }
   ],
   "source": [
    "aaa = lambda x: x+10\n",
    "aaa"
   ]
  },
  {
   "cell_type": "code",
   "execution_count": 168,
   "id": "3197370b-3be8-4569-8589-3ab650f658a9",
   "metadata": {},
   "outputs": [
    {
     "data": {
      "text/plain": [
       "18"
      ]
     },
     "execution_count": 168,
     "metadata": {},
     "output_type": "execute_result"
    }
   ],
   "source": [
    "aaa(8)"
   ]
  },
  {
   "cell_type": "code",
   "execution_count": 169,
   "id": "d4cb3749-6b57-4024-9f8b-14fad341ba5a",
   "metadata": {},
   "outputs": [
    {
     "data": {
      "text/plain": [
       "['label_A', 'label_B']"
      ]
     },
     "execution_count": 169,
     "metadata": {},
     "output_type": "execute_result"
    }
   ],
   "source": [
    "aaa = lambda x: ['label_A', 'label_B']\n",
    "aaa(8)"
   ]
  },
  {
   "cell_type": "code",
   "execution_count": 170,
   "id": "faf8e3c2-818e-418d-aa59-352cfa8a403c",
   "metadata": {},
   "outputs": [
    {
     "data": {
      "text/plain": [
       "[True,\n",
       " True,\n",
       " True,\n",
       " True,\n",
       " True,\n",
       " True,\n",
       " True,\n",
       " True,\n",
       " True,\n",
       " True,\n",
       " True,\n",
       " True,\n",
       " True,\n",
       " True,\n",
       " True,\n",
       " True,\n",
       " True,\n",
       " True,\n",
       " True,\n",
       " True,\n",
       " True,\n",
       " True,\n",
       " True,\n",
       " True,\n",
       " True,\n",
       " True]"
      ]
     },
     "execution_count": 170,
     "metadata": {},
     "output_type": "execute_result"
    }
   ],
   "source": [
    "aaa = lambda x: [True for i in range(x.size)]\n",
    "aaa(letters)"
   ]
  },
  {
   "cell_type": "code",
   "execution_count": 172,
   "id": "d4ea1efe-d397-45ac-8b3c-16e20d2c0eae",
   "metadata": {},
   "outputs": [
    {
     "data": {
      "text/plain": [
       "label_A    a\n",
       "label_B    b\n",
       "label_C    c\n",
       "label_D    d\n",
       "label_E    e\n",
       "label_F    f\n",
       "label_G    g\n",
       "label_H    h\n",
       "label_I    i\n",
       "label_J    j\n",
       "label_K    k\n",
       "label_L    l\n",
       "label_M    m\n",
       "label_N    n\n",
       "label_O    o\n",
       "label_P    p\n",
       "label_Q    q\n",
       "label_R    r\n",
       "label_S    s\n",
       "label_T    t\n",
       "label_U    u\n",
       "label_V    v\n",
       "label_W    w\n",
       "label_X    x\n",
       "label_Y    y\n",
       "label_Z    z\n",
       "dtype: object"
      ]
     },
     "execution_count": 172,
     "metadata": {},
     "output_type": "execute_result"
    }
   ],
   "source": [
    "letters"
   ]
  },
  {
   "cell_type": "code",
   "execution_count": 171,
   "id": "be081d38-ce74-41f8-ba4b-29e6cb5708d0",
   "metadata": {},
   "outputs": [
    {
     "data": {
      "text/plain": [
       "label_A    a\n",
       "label_B    b\n",
       "label_C    c\n",
       "label_D    d\n",
       "label_E    e\n",
       "label_F    f\n",
       "label_G    g\n",
       "label_H    h\n",
       "label_I    i\n",
       "label_J    j\n",
       "label_K    k\n",
       "label_L    l\n",
       "label_M    m\n",
       "label_N    n\n",
       "label_O    o\n",
       "label_P    p\n",
       "label_Q    q\n",
       "label_R    r\n",
       "label_S    s\n",
       "label_T    t\n",
       "label_U    u\n",
       "label_V    v\n",
       "label_W    w\n",
       "label_X    x\n",
       "label_Y    y\n",
       "label_Z    z\n",
       "dtype: object"
      ]
     },
     "execution_count": 171,
     "metadata": {},
     "output_type": "execute_result"
    }
   ],
   "source": [
    "letter1 = letters.loc[lambda x: [True for i in range(x.size)]]\n",
    "letter1"
   ]
  },
  {
   "cell_type": "code",
   "execution_count": 173,
   "id": "c4a4413a-1d0c-4044-a684-18b57b805bfd",
   "metadata": {},
   "outputs": [
    {
     "data": {
      "text/plain": [
       "label_A    a\n",
       "label_B    b\n",
       "label_C    c\n",
       "label_D    d\n",
       "label_E    e\n",
       "label_F    f\n",
       "label_G    g\n",
       "label_H    h\n",
       "label_I    i\n",
       "label_J    j\n",
       "label_K    k\n",
       "label_L    l\n",
       "label_M    m\n",
       "label_N    n\n",
       "label_O    o\n",
       "label_P    p\n",
       "label_Q    q\n",
       "label_R    r\n",
       "label_S    s\n",
       "label_T    t\n",
       "label_U    u\n",
       "label_V    v\n",
       "label_W    w\n",
       "label_X    x\n",
       "label_Y    y\n",
       "label_Z    z\n",
       "dtype: object"
      ]
     },
     "execution_count": 173,
     "metadata": {},
     "output_type": "execute_result"
    }
   ],
   "source": [
    "letters"
   ]
  },
  {
   "cell_type": "code",
   "execution_count": 174,
   "id": "4e168a45-500b-45fd-b414-49a1ef0f7735",
   "metadata": {},
   "outputs": [
    {
     "data": {
      "text/plain": [
       "[True,\n",
       " False,\n",
       " True,\n",
       " False,\n",
       " True,\n",
       " False,\n",
       " True,\n",
       " False,\n",
       " True,\n",
       " False,\n",
       " True,\n",
       " False,\n",
       " True,\n",
       " False,\n",
       " True,\n",
       " False,\n",
       " True,\n",
       " False,\n",
       " True,\n",
       " False,\n",
       " True,\n",
       " False,\n",
       " True,\n",
       " False,\n",
       " True,\n",
       " False]"
      ]
     },
     "execution_count": 174,
     "metadata": {},
     "output_type": "execute_result"
    }
   ],
   "source": [
    "def fun(x):\n",
    "    return [True if i%2==0 else False for i in range(x.size)]\n",
    "fun(letters)"
   ]
  },
  {
   "cell_type": "code",
   "execution_count": 175,
   "id": "8f055ed5-0235-4958-bf0f-1dd7b19e2453",
   "metadata": {},
   "outputs": [
    {
     "data": {
      "text/plain": [
       "26"
      ]
     },
     "execution_count": 175,
     "metadata": {},
     "output_type": "execute_result"
    }
   ],
   "source": [
    "letters.size"
   ]
  },
  {
   "cell_type": "code",
   "execution_count": 176,
   "id": "2b7582f2-9bb6-494f-84ec-a556eb5efb98",
   "metadata": {},
   "outputs": [
    {
     "data": {
      "text/plain": [
       "label_A    a\n",
       "label_C    c\n",
       "label_E    e\n",
       "label_G    g\n",
       "label_I    i\n",
       "label_K    k\n",
       "label_M    m\n",
       "label_O    o\n",
       "label_Q    q\n",
       "label_S    s\n",
       "label_U    u\n",
       "label_W    w\n",
       "label_Y    y\n",
       "dtype: object"
      ]
     },
     "execution_count": 176,
     "metadata": {},
     "output_type": "execute_result"
    }
   ],
   "source": [
    "def fun(x):\n",
    "    return [True if i%2==0 else False for i in range(x.size)]\n",
    "letters.iloc[fun(letters)]"
   ]
  },
  {
   "cell_type": "code",
   "execution_count": 177,
   "id": "4d2d8fca-4a29-4962-9cf1-75676bc30844",
   "metadata": {},
   "outputs": [
    {
     "data": {
      "text/plain": [
       "'a'"
      ]
     },
     "execution_count": 177,
     "metadata": {},
     "output_type": "execute_result"
    }
   ],
   "source": [
    "letters.get('label_A')"
   ]
  },
  {
   "cell_type": "code",
   "execution_count": 178,
   "id": "1ef31fdc-e5e0-471b-a073-2005f78bbb2f",
   "metadata": {},
   "outputs": [
    {
     "data": {
      "text/plain": [
       "'a'"
      ]
     },
     "execution_count": 178,
     "metadata": {},
     "output_type": "execute_result"
    }
   ],
   "source": [
    "letters.loc['label_A']"
   ]
  },
  {
   "cell_type": "code",
   "execution_count": 179,
   "id": "f977a04f-a733-4a30-aa0e-1a04e332959f",
   "metadata": {},
   "outputs": [
    {
     "data": {
      "text/plain": [
       "'a'"
      ]
     },
     "execution_count": 179,
     "metadata": {},
     "output_type": "execute_result"
    }
   ],
   "source": [
    "letters['label_A']"
   ]
  },
  {
   "cell_type": "code",
   "execution_count": 180,
   "id": "96612dcc-d0f0-4707-980d-21cd568fc769",
   "metadata": {},
   "outputs": [
    {
     "data": {
      "text/plain": [
       "'a'"
      ]
     },
     "execution_count": 180,
     "metadata": {},
     "output_type": "execute_result"
    }
   ],
   "source": [
    "letters.iloc[0]"
   ]
  },
  {
   "cell_type": "code",
   "execution_count": 181,
   "id": "737ec01b-9e1a-4bdd-9ad9-1fc3dece151e",
   "metadata": {},
   "outputs": [
    {
     "data": {
      "text/plain": [
       "'a'"
      ]
     },
     "execution_count": 181,
     "metadata": {},
     "output_type": "execute_result"
    }
   ],
   "source": [
    "letters.get(0)"
   ]
  },
  {
   "cell_type": "code",
   "execution_count": 182,
   "id": "4f44b854-0e5c-48c5-9d60-a9b0e493c84b",
   "metadata": {},
   "outputs": [
    {
     "data": {
      "text/plain": [
       "0     0\n",
       "1     1\n",
       "2     4\n",
       "3     9\n",
       "4    16\n",
       "dtype: int64"
      ]
     },
     "execution_count": 182,
     "metadata": {},
     "output_type": "execute_result"
    }
   ],
   "source": [
    "#example\n",
    "\n",
    "squares = pd.Series( i**2 for i in range(100))\n",
    "squares.head()"
   ]
  },
  {
   "cell_type": "code",
   "execution_count": 184,
   "id": "ea149ed6-601b-4e28-8bc9-44b50d3c596b",
   "metadata": {},
   "outputs": [
    {
     "data": {
      "text/plain": [
       "97    9409\n",
       "98    9604\n",
       "99    9801\n",
       "dtype: int64"
      ]
     },
     "execution_count": 184,
     "metadata": {},
     "output_type": "execute_result"
    }
   ],
   "source": [
    "squares[-3:]"
   ]
  },
  {
   "cell_type": "code",
   "execution_count": 185,
   "id": "5d6132b4-e873-4281-b841-41493ca71672",
   "metadata": {},
   "outputs": [
    {
     "data": {
      "text/plain": [
       "97    9409\n",
       "98    9604\n",
       "99    9801\n",
       "dtype: int64"
      ]
     },
     "execution_count": 185,
     "metadata": {},
     "output_type": "execute_result"
    }
   ],
   "source": [
    "squares.iloc[-3:]"
   ]
  },
  {
   "cell_type": "code",
   "execution_count": 186,
   "id": "aa45738f-0822-4667-84ba-5dbf18e12222",
   "metadata": {},
   "outputs": [
    {
     "data": {
      "text/plain": [
       "97    9409\n",
       "98    9604\n",
       "99    9801\n",
       "dtype: int64"
      ]
     },
     "execution_count": 186,
     "metadata": {},
     "output_type": "execute_result"
    }
   ],
   "source": [
    "squares.tail(3)"
   ]
  },
  {
   "cell_type": "code",
   "execution_count": 187,
   "id": "0486ef85-8e89-4b13-bf99-a69003a740b7",
   "metadata": {},
   "outputs": [
    {
     "data": {
      "text/plain": [
       "True"
      ]
     },
     "execution_count": 187,
     "metadata": {},
     "output_type": "execute_result"
    }
   ],
   "source": [
    "squares.tail(3).equals(squares.iloc[-3:])"
   ]
  },
  {
   "cell_type": "code",
   "execution_count": 188,
   "id": "7c0c3b16-b666-481a-b02b-7126c18ad3e7",
   "metadata": {},
   "outputs": [
    {
     "data": {
      "text/plain": [
       "97    True\n",
       "98    True\n",
       "99    True\n",
       "dtype: bool"
      ]
     },
     "execution_count": 188,
     "metadata": {},
     "output_type": "execute_result"
    }
   ],
   "source": [
    "a = squares.iloc[-3:]\n",
    "b = squares.tail(3)\n",
    "a == b"
   ]
  },
  {
   "cell_type": "code",
   "execution_count": 189,
   "id": "856202ca-281d-4c66-9681-8ad1b5b77a67",
   "metadata": {},
   "outputs": [
    {
     "data": {
      "text/plain": [
       "True"
      ]
     },
     "execution_count": 189,
     "metadata": {},
     "output_type": "execute_result"
    }
   ],
   "source": [
    "a.equals(b)"
   ]
  },
  {
   "cell_type": "code",
   "execution_count": null,
   "id": "07e1efde-2a18-46fc-a3fb-b5cdf0870376",
   "metadata": {},
   "outputs": [],
   "source": []
  }
 ],
 "metadata": {
  "kernelspec": {
   "display_name": "Python 3 (ipykernel)",
   "language": "python",
   "name": "python3"
  },
  "language_info": {
   "codemirror_mode": {
    "name": "ipython",
    "version": 3
   },
   "file_extension": ".py",
   "mimetype": "text/x-python",
   "name": "python",
   "nbconvert_exporter": "python",
   "pygments_lexer": "ipython3",
   "version": "3.10.12"
  }
 },
 "nbformat": 4,
 "nbformat_minor": 5
}
